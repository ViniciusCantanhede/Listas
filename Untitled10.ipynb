{
 "cells": [
  {
   "cell_type": "code",
   "execution_count": 1,
   "id": "95bca99a",
   "metadata": {},
   "outputs": [
    {
     "name": "stdout",
     "output_type": "stream",
     "text": [
      "A derivada parcial ∂QI/∂M no ponto (12, 10) é: 10\n",
      "A derivada parcial ∂QI/∂C no ponto (12, 10) é: -12\n"
     ]
    }
   ],
   "source": [
    "import sympy as sp\n",
    "\n",
    "# Definindo as variáveis M e C\n",
    "M, C = sp.symbols('M C')\n",
    "\n",
    "# Definindo a função do QI\n",
    "QI = (M / C) * 100\n",
    "\n",
    "# Calculando as derivadas parciais\n",
    "dQI_dM = sp.diff(QI, M)\n",
    "dQI_dC = sp.diff(QI, C)\n",
    "\n",
    "# Substituindo o ponto (12, 10)\n",
    "dQI_dM_value = dQI_dM.subs([(M, 12), (C, 10)])\n",
    "dQI_dC_value = dQI_dC.subs([(M, 12), (C, 10)])\n",
    "\n",
    "print(f\"A derivada parcial ∂QI/∂M no ponto (12, 10) é: {dQI_dM_value}\")\n",
    "print(f\"A derivada parcial ∂QI/∂C no ponto (12, 10) é: {dQI_dC_value}\")\n"
   ]
  },
  {
   "cell_type": "code",
   "execution_count": null,
   "id": "07441869",
   "metadata": {},
   "outputs": [],
   "source": []
  }
 ],
 "metadata": {
  "kernelspec": {
   "display_name": "Python 3 (ipykernel)",
   "language": "python",
   "name": "python3"
  },
  "language_info": {
   "codemirror_mode": {
    "name": "ipython",
    "version": 3
   },
   "file_extension": ".py",
   "mimetype": "text/x-python",
   "name": "python",
   "nbconvert_exporter": "python",
   "pygments_lexer": "ipython3",
   "version": "3.9.13"
  }
 },
 "nbformat": 4,
 "nbformat_minor": 5
}
